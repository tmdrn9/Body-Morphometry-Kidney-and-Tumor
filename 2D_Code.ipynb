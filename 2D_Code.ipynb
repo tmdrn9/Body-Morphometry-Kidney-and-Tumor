{
  "nbformat": 4,
  "nbformat_minor": 0,
  "metadata": {
    "colab": {
      "name": "body_vic.ipynb",
      "provenance": [],
      "machine_shape": "hm",
      "collapsed_sections": []
    },
    "kernelspec": {
      "name": "python3",
      "display_name": "Python 3"
    },
    "language_info": {
      "name": "python"
    },
    "widgets": {
      "application/vnd.jupyter.widget-state+json": {
        "4eaaa8a8634e4855af26fcbd2b33fc13": {
          "model_module": "@jupyter-widgets/controls",
          "model_name": "HBoxModel",
          "model_module_version": "1.5.0",
          "state": {
            "_view_name": "HBoxView",
            "_dom_classes": [],
            "_model_name": "HBoxModel",
            "_view_module": "@jupyter-widgets/controls",
            "_model_module_version": "1.5.0",
            "_view_count": null,
            "_view_module_version": "1.5.0",
            "box_style": "",
            "layout": "IPY_MODEL_6789286f54574f06bc63ebf382d0849e",
            "_model_module": "@jupyter-widgets/controls",
            "children": [
              "IPY_MODEL_d0d0b99d7104438ea6140885de07e980",
              "IPY_MODEL_465a9a4174784212a0cad05011dd0228",
              "IPY_MODEL_b43fe78c07ce435c8eb0d2c21f054e68"
            ]
          }
        },
        "6789286f54574f06bc63ebf382d0849e": {
          "model_module": "@jupyter-widgets/base",
          "model_name": "LayoutModel",
          "model_module_version": "1.2.0",
          "state": {
            "_view_name": "LayoutView",
            "grid_template_rows": null,
            "right": null,
            "justify_content": null,
            "_view_module": "@jupyter-widgets/base",
            "overflow": null,
            "_model_module_version": "1.2.0",
            "_view_count": null,
            "flex_flow": null,
            "width": null,
            "min_width": null,
            "border": null,
            "align_items": null,
            "bottom": null,
            "_model_module": "@jupyter-widgets/base",
            "top": null,
            "grid_column": null,
            "overflow_y": null,
            "overflow_x": null,
            "grid_auto_flow": null,
            "grid_area": null,
            "grid_template_columns": null,
            "flex": null,
            "_model_name": "LayoutModel",
            "justify_items": null,
            "grid_row": null,
            "max_height": null,
            "align_content": null,
            "visibility": null,
            "align_self": null,
            "height": null,
            "min_height": null,
            "padding": null,
            "grid_auto_rows": null,
            "grid_gap": null,
            "max_width": null,
            "order": null,
            "_view_module_version": "1.2.0",
            "grid_template_areas": null,
            "object_position": null,
            "object_fit": null,
            "grid_auto_columns": null,
            "margin": null,
            "display": null,
            "left": null
          }
        },
        "d0d0b99d7104438ea6140885de07e980": {
          "model_module": "@jupyter-widgets/controls",
          "model_name": "HTMLModel",
          "model_module_version": "1.5.0",
          "state": {
            "_view_name": "HTMLView",
            "style": "IPY_MODEL_7eeb64ecb13c4d2291cfc0e3a6df6160",
            "_dom_classes": [],
            "description": "",
            "_model_name": "HTMLModel",
            "placeholder": "​",
            "_view_module": "@jupyter-widgets/controls",
            "_model_module_version": "1.5.0",
            "value": "100%",
            "_view_count": null,
            "_view_module_version": "1.5.0",
            "description_tooltip": null,
            "_model_module": "@jupyter-widgets/controls",
            "layout": "IPY_MODEL_3d3dc35ab73a4d1f9f1bb7eea0b51151"
          }
        },
        "465a9a4174784212a0cad05011dd0228": {
          "model_module": "@jupyter-widgets/controls",
          "model_name": "FloatProgressModel",
          "model_module_version": "1.5.0",
          "state": {
            "_view_name": "ProgressView",
            "style": "IPY_MODEL_c7f9730dc7d44bd89ebc48f2ff491fdf",
            "_dom_classes": [],
            "description": "",
            "_model_name": "FloatProgressModel",
            "bar_style": "success",
            "max": 356082095,
            "_view_module": "@jupyter-widgets/controls",
            "_model_module_version": "1.5.0",
            "value": 356082095,
            "_view_count": null,
            "_view_module_version": "1.5.0",
            "orientation": "horizontal",
            "min": 0,
            "description_tooltip": null,
            "_model_module": "@jupyter-widgets/controls",
            "layout": "IPY_MODEL_7c7d97f427c946738d2a9b5481cd845a"
          }
        },
        "b43fe78c07ce435c8eb0d2c21f054e68": {
          "model_module": "@jupyter-widgets/controls",
          "model_name": "HTMLModel",
          "model_module_version": "1.5.0",
          "state": {
            "_view_name": "HTMLView",
            "style": "IPY_MODEL_dbc57f4a57fa4d86a7e17a2165381a51",
            "_dom_classes": [],
            "description": "",
            "_model_name": "HTMLModel",
            "placeholder": "​",
            "_view_module": "@jupyter-widgets/controls",
            "_model_module_version": "1.5.0",
            "value": " 340M/340M [00:03&lt;00:00, 95.3MB/s]",
            "_view_count": null,
            "_view_module_version": "1.5.0",
            "description_tooltip": null,
            "_model_module": "@jupyter-widgets/controls",
            "layout": "IPY_MODEL_ee307ee53b994985b872600ba039750f"
          }
        },
        "7eeb64ecb13c4d2291cfc0e3a6df6160": {
          "model_module": "@jupyter-widgets/controls",
          "model_name": "DescriptionStyleModel",
          "model_module_version": "1.5.0",
          "state": {
            "_view_name": "StyleView",
            "_model_name": "DescriptionStyleModel",
            "description_width": "",
            "_view_module": "@jupyter-widgets/base",
            "_model_module_version": "1.5.0",
            "_view_count": null,
            "_view_module_version": "1.2.0",
            "_model_module": "@jupyter-widgets/controls"
          }
        },
        "3d3dc35ab73a4d1f9f1bb7eea0b51151": {
          "model_module": "@jupyter-widgets/base",
          "model_name": "LayoutModel",
          "model_module_version": "1.2.0",
          "state": {
            "_view_name": "LayoutView",
            "grid_template_rows": null,
            "right": null,
            "justify_content": null,
            "_view_module": "@jupyter-widgets/base",
            "overflow": null,
            "_model_module_version": "1.2.0",
            "_view_count": null,
            "flex_flow": null,
            "width": null,
            "min_width": null,
            "border": null,
            "align_items": null,
            "bottom": null,
            "_model_module": "@jupyter-widgets/base",
            "top": null,
            "grid_column": null,
            "overflow_y": null,
            "overflow_x": null,
            "grid_auto_flow": null,
            "grid_area": null,
            "grid_template_columns": null,
            "flex": null,
            "_model_name": "LayoutModel",
            "justify_items": null,
            "grid_row": null,
            "max_height": null,
            "align_content": null,
            "visibility": null,
            "align_self": null,
            "height": null,
            "min_height": null,
            "padding": null,
            "grid_auto_rows": null,
            "grid_gap": null,
            "max_width": null,
            "order": null,
            "_view_module_version": "1.2.0",
            "grid_template_areas": null,
            "object_position": null,
            "object_fit": null,
            "grid_auto_columns": null,
            "margin": null,
            "display": null,
            "left": null
          }
        },
        "c7f9730dc7d44bd89ebc48f2ff491fdf": {
          "model_module": "@jupyter-widgets/controls",
          "model_name": "ProgressStyleModel",
          "model_module_version": "1.5.0",
          "state": {
            "_view_name": "StyleView",
            "_model_name": "ProgressStyleModel",
            "description_width": "",
            "_view_module": "@jupyter-widgets/base",
            "_model_module_version": "1.5.0",
            "_view_count": null,
            "_view_module_version": "1.2.0",
            "bar_color": null,
            "_model_module": "@jupyter-widgets/controls"
          }
        },
        "7c7d97f427c946738d2a9b5481cd845a": {
          "model_module": "@jupyter-widgets/base",
          "model_name": "LayoutModel",
          "model_module_version": "1.2.0",
          "state": {
            "_view_name": "LayoutView",
            "grid_template_rows": null,
            "right": null,
            "justify_content": null,
            "_view_module": "@jupyter-widgets/base",
            "overflow": null,
            "_model_module_version": "1.2.0",
            "_view_count": null,
            "flex_flow": null,
            "width": null,
            "min_width": null,
            "border": null,
            "align_items": null,
            "bottom": null,
            "_model_module": "@jupyter-widgets/base",
            "top": null,
            "grid_column": null,
            "overflow_y": null,
            "overflow_x": null,
            "grid_auto_flow": null,
            "grid_area": null,
            "grid_template_columns": null,
            "flex": null,
            "_model_name": "LayoutModel",
            "justify_items": null,
            "grid_row": null,
            "max_height": null,
            "align_content": null,
            "visibility": null,
            "align_self": null,
            "height": null,
            "min_height": null,
            "padding": null,
            "grid_auto_rows": null,
            "grid_gap": null,
            "max_width": null,
            "order": null,
            "_view_module_version": "1.2.0",
            "grid_template_areas": null,
            "object_position": null,
            "object_fit": null,
            "grid_auto_columns": null,
            "margin": null,
            "display": null,
            "left": null
          }
        },
        "dbc57f4a57fa4d86a7e17a2165381a51": {
          "model_module": "@jupyter-widgets/controls",
          "model_name": "DescriptionStyleModel",
          "model_module_version": "1.5.0",
          "state": {
            "_view_name": "StyleView",
            "_model_name": "DescriptionStyleModel",
            "description_width": "",
            "_view_module": "@jupyter-widgets/base",
            "_model_module_version": "1.5.0",
            "_view_count": null,
            "_view_module_version": "1.2.0",
            "_model_module": "@jupyter-widgets/controls"
          }
        },
        "ee307ee53b994985b872600ba039750f": {
          "model_module": "@jupyter-widgets/base",
          "model_name": "LayoutModel",
          "model_module_version": "1.2.0",
          "state": {
            "_view_name": "LayoutView",
            "grid_template_rows": null,
            "right": null,
            "justify_content": null,
            "_view_module": "@jupyter-widgets/base",
            "overflow": null,
            "_model_module_version": "1.2.0",
            "_view_count": null,
            "flex_flow": null,
            "width": null,
            "min_width": null,
            "border": null,
            "align_items": null,
            "bottom": null,
            "_model_module": "@jupyter-widgets/base",
            "top": null,
            "grid_column": null,
            "overflow_y": null,
            "overflow_x": null,
            "grid_auto_flow": null,
            "grid_area": null,
            "grid_template_columns": null,
            "flex": null,
            "_model_name": "LayoutModel",
            "justify_items": null,
            "grid_row": null,
            "max_height": null,
            "align_content": null,
            "visibility": null,
            "align_self": null,
            "height": null,
            "min_height": null,
            "padding": null,
            "grid_auto_rows": null,
            "grid_gap": null,
            "max_width": null,
            "order": null,
            "_view_module_version": "1.2.0",
            "grid_template_areas": null,
            "object_position": null,
            "object_fit": null,
            "grid_auto_columns": null,
            "margin": null,
            "display": null,
            "left": null
          }
        }
      }
    },
    "accelerator": "GPU"
  },
  "cells": [
    {
      "cell_type": "code",
      "metadata": {
        "id": "t6mkS2K2_9Lf"
      },
      "source": [
        "import matplotlib.pyplot as plt\n",
        "import matplotlib.image as mpimg\n",
        "import torch\n",
        "import os\n",
        "from tqdm.auto import tqdm\n",
        "from glob import glob\n",
        "import cv2\n",
        "import numpy as np\n",
        "import pandas as pd\n",
        "import PIL \n",
        "import urllib\n",
        "from torch import nn\n",
        "from torch import optim\n",
        "import torch.nn.functional as F\n",
        "from torchvision import datasets, transforms\n",
        "from random import uniform\n",
        "from imgaug import augmenters as iaa\n",
        "\n",
        "%config InlineBackend.figure_format = 'retina'\n",
        "%matplotlib inline"
      ],
      "execution_count": null,
      "outputs": []
    },
    {
      "cell_type": "code",
      "metadata": {
        "id": "GZ8g4tZL7F03"
      },
      "source": [
        "import torch.utils.data as td\n",
        "import torchvision as tv\n",
        "from PIL import Image\n",
        "import matplotlib.pyplot as plt\n",
        "import time"
      ],
      "execution_count": null,
      "outputs": []
    },
    {
      "cell_type": "code",
      "metadata": {
        "id": "tALkYOd_7MGH",
        "colab": {
          "base_uri": "https://localhost:8080/"
        },
        "outputId": "82197efa-8fec-4e62-848d-ed81195a4df3"
      },
      "source": [
        "!pip install pydicom"
      ],
      "execution_count": null,
      "outputs": [
        {
          "output_type": "stream",
          "text": [
            "Collecting pydicom\n",
            "  Downloading pydicom-2.2.0-py3-none-any.whl (1.9 MB)\n",
            "\u001b[K     |████████████████████████████████| 1.9 MB 8.0 MB/s \n",
            "\u001b[?25hInstalling collected packages: pydicom\n",
            "Successfully installed pydicom-2.2.0\n"
          ],
          "name": "stdout"
        }
      ]
    },
    {
      "cell_type": "code",
      "metadata": {
        "id": "uCqEeHYC7ISq"
      },
      "source": [
        "import pydicom as dcm"
      ],
      "execution_count": null,
      "outputs": []
    },
    {
      "cell_type": "code",
      "metadata": {
        "colab": {
          "base_uri": "https://localhost:8080/"
        },
        "id": "V4c7UOjt7ybJ",
        "outputId": "e1d17141-24f1-4cd2-810b-07f8d15b8d7d"
      },
      "source": [
        "from google.colab import drive\n",
        "drive.mount._DEBUG = True\n",
        "drive.mount('/content/drive', force_remount=True)"
      ],
      "execution_count": null,
      "outputs": [
        {
          "output_type": "stream",
          "text": [
            "unset HISTFILE; export PS1=\"root@6a76c0b05337-f280065fa00c46b5b4089f2c4d655d76: \"\n",
            "bash: cannot set terminal process group (-1): Inappropriate ioctl for device\n",
            "bash: no job control in this shell\n",
            "\u001b[01;34m/content\u001b[00m# root@6a76c0b05337-f280065fa00c46b5b4089f2c4d655d76: umount -f /content/drive || umount /content/drive; pkill -9 -x drive\n",
            "umount: /content/drive: no mount point specified.\n",
            "umount: /content/drive: no mount point specified.\n",
            "root@6a76c0b05337-f280065fa00c46b5b4089f2c4d655d76: pkill -9 -f /opt/google/drive/directoryprefetcher_binary\n",
            "root@6a76c0b05337-f280065fa00c46b5b4089f2c4d655d76: ( while `sleep 0.5`; do if [[ -d \"/content/drive\" && \"$(ls -A /content/drive)\" != \"\" ]]; then echo \"google.colab.drive MOUNTED\"; break; fi; done ) &\n",
            "[1] 158\n",
            "root@6a76c0b05337-f280065fa00c46b5b4089f2c4d655d76: cat /tmp/tmpujk_g1_2/drive.fifo | head -1 | ( /opt/google/drive/drive --features=fuse_max_background:1000,max_read_qps:1000,max_write_qps:1000,max_operation_batch_size:15,max_parallel_push_task_instances:10,opendir_timeout_ms:120000,virtual_folders_omit_spaces:true --inet_family=IPV4_ONLY --preferences=trusted_root_certs_file_path:/opt/google/drive/roots.pem,mount_point_path:/content/drive --console_auth 2>&1 | grep --line-buffered -E \"(Go to this URL in a browser: https://.*)$|Drive File Stream encountered a problem and has stopped|Authorization failed|The domain policy has disabled Drive File Stream\"; echo \"drive EXITED\"; ) &\n",
            "[2] 162\n",
            "root@6a76c0b05337-f280065fa00c46b5b4089f2c4d655d76: Go to this URL in a browser: https://accounts.google.com/o/oauth2/auth?client_id=947318989803-6bn6qk8qdgf4n4g3pfee6491hc0brc4i.apps.googleusercontent.com&redirect_uri=urn%3aietf%3awg%3aoauth%3a2.0%3aoob&scope=email%20https%3a%2f%2fwww.googleapis.com%2fauth%2fdocs.test%20https%3a%2f%2fwww.googleapis.com%2fauth%2fdrive%20https%3a%2f%2fwww.googleapis.com%2fauth%2fdrive.photos.readonly%20https%3a%2f%2fwww.googleapis.com%2fauth%2fpeopleapi.readonly%20https%3a%2f%2fwww.googleapis.com%2fauth%2fdrive.activity.readonly%20https%3a%2f%2fwww.googleapis.com%2fauth%2fexperimentsandconfigs%20https%3a%2f%2fwww.googleapis.com%2fauth%2fphotos.native&response_type=code\n",
            "google.colab.drive MOUNTED\n",
            "fuser -kw \"/root/.config/Google/DriveFS/Logs/timeouts.txt\" ; rm -rf \"/root/.config/Google/DriveFS/Logs/timeouts.txt\"\n",
            "Specified filename /root/.config/Google/DriveFS/Logs/timeouts.txt does not exist.\n",
            "root@6a76c0b05337-f280065fa00c46b5b4089f2c4d655d76: nohup bash -c 'tail -n +0 -F \"/root/.config/Google/DriveFS/Logs/drive_fs.txt\" | python3 /opt/google/drive/drive-filter.py > \"/root/.config/Google/DriveFS/Logs/timeouts.txt\" ' < /dev/null > /dev/null 2>&1 &\n",
            "[3] 356\n",
            "root@6a76c0b05337-f280065fa00c46b5b4089f2c4d655d76: disown -a\n",
            "root@6a76c0b05337-f280065fa00c46b5b4089f2c4d655d76: exit\n",
            "Mounted at /content/drive\n"
          ],
          "name": "stdout"
        }
      ]
    },
    {
      "cell_type": "code",
      "metadata": {
        "id": "_0LeWnrf7pxM"
      },
      "source": [
        "os.chdir('./drive/MyDrive/body-morphometry-kidney-and-tumor/data/')"
      ],
      "execution_count": null,
      "outputs": []
    },
    {
      "cell_type": "markdown",
      "metadata": {
        "id": "BQG8RrO1RPN7"
      },
      "source": [
        "전처리\n",
        "\n",
        "\n",
        "*   https://github.com/tuvovan/Unet-with-EfficientnetB7-Backbone/blob/master/Body%20Morphometry.ipynb\n",
        "\n",
        "\n",
        "모델\n",
        "\n",
        "\n",
        "*   https://github.com/IanTaehoonYoo/semantic-segmentation-pytorch\n",
        "\n",
        "\n"
      ]
    },
    {
      "cell_type": "code",
      "metadata": {
        "id": "OL4PsCAWIlot"
      },
      "source": [
        "from skimage.transform import resize\n",
        "from skimage.io import imread\n",
        "from tensorflow.keras.preprocessing.image import load_img\n",
        "import numpy as np\n",
        "import pydicom\n",
        "\n",
        "def transform_to_hu(medical_image, image):\n",
        "    hu_image = image * medical_image.RescaleSlope + medical_image.RescaleIntercept\n",
        "    hu_image[hu_image < -1024] = -1024\n",
        "    return hu_image\n",
        "\n",
        "def window_image(image, window_center, window_width):\n",
        "    window_image = image.copy()\n",
        "    image_min = window_center - (window_width / 2)\n",
        "    image_max = window_center + (window_width / 2)\n",
        "    window_image[window_image < image_min] = image_min\n",
        "    window_image[window_image > image_max] = image_max\n",
        "    return window_image\n",
        "\n",
        "def resize_normalize(image):\n",
        "    image = np.array(image, dtype=np.float64)\n",
        "    image -= np.min(image)\n",
        "    image /= np.max(image)\n",
        "    return image\n",
        "\n",
        "def read_dicom(image_medical, window_widht, window_level):\n",
        "    image_data = image_medical.pixel_array\n",
        "\n",
        "    image_hu = transform_to_hu(image_medical, image_data)\n",
        "    image_window = window_image(image_hu.copy(), window_level, window_widht)\n",
        "    image_window_norm = resize_normalize(image_window)\n",
        "#     image_window_norm = image_window\n",
        "\n",
        "    image_window_norm = np.expand_dims(image_window_norm, axis=2)   # (512, 512, 1)\n",
        "    image_ths = np.concatenate([image_window_norm, image_window_norm, image_window_norm], axis=2)   # (512, 512, 3)\n",
        "    return image_ths\n",
        "\n",
        "def to_binary(img, lower, upper):\n",
        "    return (lower <= img) & (img <= upper)"
      ],
      "execution_count": null,
      "outputs": []
    },
    {
      "cell_type": "code",
      "metadata": {
        "colab": {
          "base_uri": "https://localhost:8080/",
          "height": 856
        },
        "id": "oWtB2cz20PuZ",
        "outputId": "3e92b138-337e-4d15-e5c7-c7aa624c302f"
      },
      "source": [
        "pip install albumentations==0.3.1"
      ],
      "execution_count": null,
      "outputs": [
        {
          "output_type": "stream",
          "text": [
            "Collecting albumentations==0.3.1\n",
            "  Downloading albumentations-0.3.1.tar.gz (78 kB)\n",
            "\u001b[?25l\r\u001b[K     |████▏                           | 10 kB 28.7 MB/s eta 0:00:01\r\u001b[K     |████████▍                       | 20 kB 35.0 MB/s eta 0:00:01\r\u001b[K     |████████████▋                   | 30 kB 21.3 MB/s eta 0:00:01\r\u001b[K     |████████████████▊               | 40 kB 17.3 MB/s eta 0:00:01\r\u001b[K     |█████████████████████           | 51 kB 9.2 MB/s eta 0:00:01\r\u001b[K     |█████████████████████████▏      | 61 kB 9.5 MB/s eta 0:00:01\r\u001b[K     |█████████████████████████████▎  | 71 kB 9.1 MB/s eta 0:00:01\r\u001b[K     |████████████████████████████████| 78 kB 4.9 MB/s \n",
            "\u001b[?25hRequirement already satisfied: numpy>=1.11.1 in /usr/local/lib/python3.7/dist-packages (from albumentations==0.3.1) (1.19.5)\n",
            "Requirement already satisfied: scipy in /usr/local/lib/python3.7/dist-packages (from albumentations==0.3.1) (1.4.1)\n",
            "Collecting opencv-python-headless\n",
            "  Downloading opencv_python_headless-4.5.3.56-cp37-cp37m-manylinux2014_x86_64.whl (37.1 MB)\n",
            "\u001b[K     |████████████████████████████████| 37.1 MB 75 kB/s \n",
            "\u001b[?25hCollecting imgaug<0.2.7,>=0.2.5\n",
            "  Downloading imgaug-0.2.6.tar.gz (631 kB)\n",
            "\u001b[K     |████████████████████████████████| 631 kB 70.2 MB/s \n",
            "\u001b[?25hRequirement already satisfied: PyYAML in /usr/local/lib/python3.7/dist-packages (from albumentations==0.3.1) (3.13)\n",
            "Requirement already satisfied: scikit-image>=0.11.0 in /usr/local/lib/python3.7/dist-packages (from imgaug<0.2.7,>=0.2.5->albumentations==0.3.1) (0.16.2)\n",
            "Requirement already satisfied: six in /usr/local/lib/python3.7/dist-packages (from imgaug<0.2.7,>=0.2.5->albumentations==0.3.1) (1.15.0)\n",
            "Requirement already satisfied: imageio>=2.3.0 in /usr/local/lib/python3.7/dist-packages (from scikit-image>=0.11.0->imgaug<0.2.7,>=0.2.5->albumentations==0.3.1) (2.4.1)\n",
            "Requirement already satisfied: PyWavelets>=0.4.0 in /usr/local/lib/python3.7/dist-packages (from scikit-image>=0.11.0->imgaug<0.2.7,>=0.2.5->albumentations==0.3.1) (1.1.1)\n",
            "Requirement already satisfied: networkx>=2.0 in /usr/local/lib/python3.7/dist-packages (from scikit-image>=0.11.0->imgaug<0.2.7,>=0.2.5->albumentations==0.3.1) (2.6.2)\n",
            "Requirement already satisfied: matplotlib!=3.0.0,>=2.0.0 in /usr/local/lib/python3.7/dist-packages (from scikit-image>=0.11.0->imgaug<0.2.7,>=0.2.5->albumentations==0.3.1) (3.2.2)\n",
            "Requirement already satisfied: pillow>=4.3.0 in /usr/local/lib/python3.7/dist-packages (from scikit-image>=0.11.0->imgaug<0.2.7,>=0.2.5->albumentations==0.3.1) (7.1.2)\n",
            "Requirement already satisfied: python-dateutil>=2.1 in /usr/local/lib/python3.7/dist-packages (from matplotlib!=3.0.0,>=2.0.0->scikit-image>=0.11.0->imgaug<0.2.7,>=0.2.5->albumentations==0.3.1) (2.8.2)\n",
            "Requirement already satisfied: cycler>=0.10 in /usr/local/lib/python3.7/dist-packages (from matplotlib!=3.0.0,>=2.0.0->scikit-image>=0.11.0->imgaug<0.2.7,>=0.2.5->albumentations==0.3.1) (0.10.0)\n",
            "Requirement already satisfied: kiwisolver>=1.0.1 in /usr/local/lib/python3.7/dist-packages (from matplotlib!=3.0.0,>=2.0.0->scikit-image>=0.11.0->imgaug<0.2.7,>=0.2.5->albumentations==0.3.1) (1.3.1)\n",
            "Requirement already satisfied: pyparsing!=2.0.4,!=2.1.2,!=2.1.6,>=2.0.1 in /usr/local/lib/python3.7/dist-packages (from matplotlib!=3.0.0,>=2.0.0->scikit-image>=0.11.0->imgaug<0.2.7,>=0.2.5->albumentations==0.3.1) (2.4.7)\n",
            "Building wheels for collected packages: albumentations, imgaug\n",
            "  Building wheel for albumentations (setup.py) ... \u001b[?25l\u001b[?25hdone\n",
            "  Created wheel for albumentations: filename=albumentations-0.3.1-py3-none-any.whl size=47861 sha256=6c916b29ceb6b33926b318c368dc3af5cbb1a2ee784bbb01f131cb07c121b026\n",
            "  Stored in directory: /root/.cache/pip/wheels/db/51/fd/1d5d1bcf5bcecec185bfe177cf132fc87e29a0a9a8d782e0b7\n",
            "  Building wheel for imgaug (setup.py) ... \u001b[?25l\u001b[?25hdone\n",
            "  Created wheel for imgaug: filename=imgaug-0.2.6-py3-none-any.whl size=654020 sha256=d128a5b799f6200fb26e6ec25182f9af4bc7a6fbe812b7a2c0fa4d2b3544d500\n",
            "  Stored in directory: /root/.cache/pip/wheels/89/72/98/3ebfdba1069a9a8eaaa7ae7265cfd67d63ef0197aaee2e5f9c\n",
            "Successfully built albumentations imgaug\n",
            "Installing collected packages: opencv-python-headless, imgaug, albumentations\n",
            "  Attempting uninstall: imgaug\n",
            "    Found existing installation: imgaug 0.2.9\n",
            "    Uninstalling imgaug-0.2.9:\n",
            "      Successfully uninstalled imgaug-0.2.9\n",
            "  Attempting uninstall: albumentations\n",
            "    Found existing installation: albumentations 0.1.12\n",
            "    Uninstalling albumentations-0.1.12:\n",
            "      Successfully uninstalled albumentations-0.1.12\n",
            "Successfully installed albumentations-0.3.1 imgaug-0.2.6 opencv-python-headless-4.5.3.56\n"
          ],
          "name": "stdout"
        },
        {
          "output_type": "display_data",
          "data": {
            "application/vnd.colab-display-data+json": {
              "pip_warning": {
                "packages": [
                  "cv2",
                  "imgaug"
                ]
              }
            }
          },
          "metadata": {}
        }
      ]
    },
    {
      "cell_type": "code",
      "metadata": {
        "colab": {
          "base_uri": "https://localhost:8080/",
          "height": 35
        },
        "id": "Hw3FLlvlz-tw",
        "outputId": "d0ea8e3f-2e9f-471d-ad9f-652e61033e8f"
      },
      "source": [
        "albumentations.__version__"
      ],
      "execution_count": null,
      "outputs": [
        {
          "output_type": "execute_result",
          "data": {
            "application/vnd.google.colaboratory.intrinsic+json": {
              "type": "string"
            },
            "text/plain": [
              "'0.1.12'"
            ]
          },
          "metadata": {},
          "execution_count": 9
        }
      ]
    },
    {
      "cell_type": "code",
      "metadata": {
        "id": "J6OT5MsBZkXL"
      },
      "source": [
        "import albumentations as A\n",
        "import albumentations.pytorch\n",
        "\n",
        "aug = A.Compose([\n",
        "                 A.augmentations.transforms.HorizontalFlip(p=0.5,always_apply=False),\n",
        "                 A.OneOf([\n",
        "                          A.RandomContrast(always_apply=False,p=0.2,limit=[-0.1,0.1]),\n",
        "                          A.RandomGamma(always_apply=False,p=0.2,gamma_limit=[80,120]),\n",
        "                          A.RandomBrightness(always_apply=False,p=0.2,limit=[-0.1,0.1])\n",
        "                          ], p=0.5)\n",
        "                #  A.OneOf([\n",
        "                #           A.augmentations.transforms.ElasticTransform(always_apply=False,p=0.2,alpha=10,sigma=6.0,alpha_affine=1.5999999999999996,interpolation=1,border_mode=4,approximate=False),\n",
        "                #           # albumentations.augmentations.transforms.GridDistortion(always_apply=False,p=0.2,num_steps=5,distort_limit=[-0.1,0.1],interpolation=1,border_mode=4),\n",
        "                #           A.augmentations.transforms.OpticalDistortion(always_apply=False,p=0.4,distort_limit=[-2,2],shift_limit=[-0.5,0.5],interpolation=1,border_mode=4),                 \n",
        "                #           ], p=0.3),\n",
        "                          #  albumentations.augmentations.transforms.Cutout(always_apply=False,p=0.5,num_holes=8,max_h_size=50,max_w_size=50)\n",
        "                          #  albumentations.augmentations.transforms.ShiftScaleRotate(always_apply=False,p=0.5,shift_limit=[-0.0625,0.0625],scale_limit=[-0.09999999999999998,0.12000000000000009],rotate_limit=[-25,25],interpolation=1,border_mode=4,value=null,mask_value=null),\n",
        "                          # albumentations.augmentations.transforms.Resize(always_apply=True,p=1,height=512,width=512,interpolation=1)\n",
        "\n",
        "                    ])"
      ],
      "execution_count": null,
      "outputs": []
    },
    {
      "cell_type": "code",
      "metadata": {
        "id": "Ou_vStef7Kut"
      },
      "source": [
        "class MyDataset(torch.utils.data.Dataset):\n",
        "    def __init__(self, x_dir, y_dir, transform=None):\n",
        "        super().__init__()\n",
        "\n",
        "        self.transforms = transform\n",
        "        self.x_img = x_dir\n",
        "        self.y_img = y_dir   \n",
        "\n",
        "    def __len__(self):\n",
        "        return len(self.x_img)\n",
        "\n",
        "    def __getitem__(self, idx):\n",
        "        x_img = self.x_img[idx]\n",
        "        y_img = self.y_img[idx]\n",
        "        # Read an image with OpenCV\n",
        "        x_img = dcm.read_file(x_img)\n",
        "        y_img =  imread(y_img)\n",
        "\n",
        "        x_img=read_dicom(x_img,500,0)\n",
        "        x_img=np.transpose(x_img,(2,0,1))\n",
        "        x_img=x_img.astype(np.float32)\n",
        "\n",
        "        y_img = resize(y_img, (512, 512))*255\n",
        "\n",
        "        \n",
        "        color_im = np.zeros([512, 512, 2])\n",
        "        for i in range(1,3):\n",
        "            encode_ = to_binary(y_img, i*1.0, i*1.0) * 255\n",
        "            color_im[:, :, i-1] = encode_\n",
        "        color_im = np.transpose(color_im,(2,0,1))\n",
        "\n",
        "        # Data Augmentation\n",
        "        if self.transforms:\n",
        "            augmented = self.transforms(image=x_img,mask=color_im)\n",
        "            img = augmented['image']\n",
        "            mask = augmented['mask']\n",
        "            return img, mask,y_img"
      ],
      "execution_count": null,
      "outputs": []
    },
    {
      "cell_type": "code",
      "metadata": {
        "id": "B7JE1IDH8iTl"
      },
      "source": [
        "import glob\n",
        "data_path=sorted(glob.glob( \"./train/DICOM/**/*.dcm\",recursive=True ))\n",
        "label_path=sorted(glob.glob(\"./train/Label/**/*.png\",recursive = True))"
      ],
      "execution_count": null,
      "outputs": []
    },
    {
      "cell_type": "code",
      "metadata": {
        "id": "qhg9hfPv8qsU"
      },
      "source": [
        "data_path = pd.array(data_path)\n",
        "label_path = pd.array(label_path)\n",
        "\n",
        "train_input_files = data_path[0:].to_numpy()\n",
        "train_label_files = label_path[0:].to_numpy()\n",
        "\n",
        "val_input_files = data_path[:12].to_numpy()\n",
        "val_label_files = label_path[:12].to_numpy()"
      ],
      "execution_count": null,
      "outputs": []
    },
    {
      "cell_type": "code",
      "metadata": {
        "id": "4isFVrb_8weM"
      },
      "source": [
        "train_dataset = MyDataset(train_input_files,train_label_files,aug)\n",
        "train_loader = torch.utils.data.DataLoader(dataset=train_dataset, batch_size=8,shuffle=True)\n",
        "val_dataset = MyDataset(val_input_files,val_label_files,aug)\n",
        "val_loader = torch.utils.data.DataLoader(dataset=val_dataset, batch_size=8,shuffle=True)"
      ],
      "execution_count": null,
      "outputs": []
    },
    {
      "cell_type": "code",
      "metadata": {
        "colab": {
          "base_uri": "https://localhost:8080/",
          "height": 241
        },
        "id": "1MJmXHLz88_3",
        "outputId": "9745cc4a-4073-454a-de14-a2efb4cd33a5"
      },
      "source": [
        "##input과 label이 맞나 확인\n",
        "origin_img,origin_mask,images,mask = next(iter(train_loader))\n",
        "print(images.shape)\n",
        "print(mask.shape)\n",
        "plt.figure(figsize=(16,18))\n",
        "plt.subplot(1,5,1)\n",
        "plt.imshow(origin_img[0][0])\n",
        "plt.subplot(1,5,2)\n",
        "plt.imshow(origin_mask[0])\n",
        "plt.subplot(1,5,3)\n",
        "plt.imshow(images[0][0])\n",
        "plt.subplot(1,5,4)\n",
        "plt.imshow(mask[0][0])\n",
        "plt.subplot(1,5,5)\n",
        "plt.imshow(mask[0][1])\n",
        "\n",
        "plt.show()"
      ],
      "execution_count": null,
      "outputs": [
        {
          "output_type": "stream",
          "text": [
            "torch.Size([8, 3, 512, 512])\n",
            "torch.Size([8, 2, 512, 512])\n"
          ],
          "name": "stdout"
        },
        {
          "output_type": "display_data",
          "data": {
            "image/png": "[encoded data removed]",
            "text/plain": [
              "<Figure size 1152x1296 with 5 Axes>"
            ]
          },
          "metadata": {
            "image/png": {
              "width": 933,
              "height": 188
            },
            "needs_background": "light"
          }
        }
      ]
    },
    {
      "cell_type": "code",
      "metadata": {
        "id": "-RPu17l8trAm"
      },
      "source": [
        "def compute_per_channel_dice(input, target, epsilon=1e-5, ignore_index=None, weight=None):\n",
        "    # assumes that input is a normalized probability\n",
        "    # input and target shapes must match\n",
        "    assert input.size() == target.size(), \"'input' and 'target' must have the same shape\"\n",
        "\n",
        "    # mask ignore_index if present\n",
        "    if ignore_index is not None:\n",
        "        mask = target.clone().ne_(ignore_index)\n",
        "        mask.requires_grad = False\n",
        "\n",
        "        input = input * mask\n",
        "        target = target * mask\n",
        "\n",
        "    input = flatten(input)\n",
        "    target = flatten(target)\n",
        "\n",
        "    # Compute per channel Dice Coefficient\n",
        "    intersect = (input * target).sum(-1)\n",
        "    if weight is not None:\n",
        "        intersect = weight * intersect\n",
        "\n",
        "    denominator = (input + target).sum(-1)\n",
        "    return 2. * intersect / denominator.clamp(min=epsilon)\n",
        "\n",
        "def flatten(tensor):\n",
        "    \"\"\"Flattens a given tensor such that the channel axis is first.\n",
        "    The shapes are transformed as follows:\n",
        "       (N, C, D, H, W) -> (C, N * D * H * W)\n",
        "    \"\"\"\n",
        "    C = tensor.size(1)\n",
        "    # new axis order\n",
        "    axis_order = (1, 0) + tuple(range(2, tensor.dim()))\n",
        "    # Transpose: (N, C, D, H, W) -> (C, N, D, H, W)\n",
        "    transposed = tensor.permute(axis_order).contiguous()\n",
        "    # Flatten: (C, N, D, H, W) -> (C, N * D * H * W)\n",
        "    return transposed.view(C, -1)\n",
        "\n",
        "class DiceLoss(nn.Module):\n",
        "    \"\"\"Computes Dice Loss, which just 1 - DiceCoefficient described above.\n",
        "    Additionally allows per-class weights to be provided.\n",
        "    \"\"\"\n",
        "\n",
        "    def __init__(self, epsilon=1e-5, weight=None, ignore_index=None, sigmoid_normalization=True,\n",
        "                 skip_last_target=False):\n",
        "        super(DiceLoss, self).__init__()\n",
        "        if isinstance(weight, list):\n",
        "            weight = torch.Tensor(weight)\n",
        "            \n",
        "        self.epsilon = epsilon\n",
        "        self.register_buffer('weight', weight)\n",
        "        self.ignore_index = ignore_index\n",
        "\n",
        "        if sigmoid_normalization:\n",
        "            self.normalization = nn.Sigmoid()\n",
        "        else:\n",
        "            self.normalization = nn.Softmax(dim=1)\n",
        "        # if True skip the last channel in the target\n",
        "        self.skip_last_target = skip_last_target\n",
        "\n",
        "    def forward(self, input, target):\n",
        "        # get probabilities from logits\n",
        "\n",
        "        input = self.normalization(input)\n",
        "        if self.weight is not None:\n",
        "            weight = Variable(self.weight, requires_grad=False).to(input.device)\n",
        "        else:\n",
        "            weight = None\n",
        "\n",
        "        if self.skip_last_target:\n",
        "            target = target[:, :-1, ...]\n",
        "\n",
        "        per_channel_dice = compute_per_channel_dice(input, target, epsilon=self.epsilon, ignore_index=self.ignore_index, weight=weight)\n",
        "        # Average the Dice score across all channels/classes\n",
        "        return torch.mean(1. - per_channel_dice)"
      ],
      "execution_count": null,
      "outputs": []
    },
    {
      "cell_type": "code",
      "metadata": {
        "colab": {
          "base_uri": "https://localhost:8080/"
        },
        "id": "KVX9u4ZB9GQI",
        "outputId": "8f768432-8620-47f5-c6c6-19a93606b688"
      },
      "source": [
        "!pip install git+https://github.com/qubvel/segmentation_models.pytorch"
      ],
      "execution_count": null,
      "outputs": [
        {
          "output_type": "stream",
          "text": [
            "Collecting git+https://github.com/qubvel/segmentation_models.pytorch\n",
            "  Cloning https://github.com/qubvel/segmentation_models.pytorch to /tmp/pip-req-build-xxltftm6\n",
            "  Running command git clone -q https://github.com/qubvel/segmentation_models.pytorch /tmp/pip-req-build-xxltftm6\n",
            "Requirement already satisfied: torchvision>=0.5.0 in /usr/local/lib/python3.7/dist-packages (from segmentation-models-pytorch==0.2.0) (0.10.0+cu102)\n",
            "Collecting pretrainedmodels==0.7.4\n",
            "  Downloading pretrainedmodels-0.7.4.tar.gz (58 kB)\n",
            "\u001b[K     |████████████████████████████████| 58 kB 4.5 MB/s \n",
            "\u001b[?25hCollecting efficientnet-pytorch==0.6.3\n",
            "  Downloading efficientnet_pytorch-0.6.3.tar.gz (16 kB)\n",
            "Collecting timm==0.4.12\n",
            "  Downloading timm-0.4.12-py3-none-any.whl (376 kB)\n",
            "\u001b[K     |████████████████████████████████| 376 kB 15.6 MB/s \n",
            "\u001b[?25hRequirement already satisfied: torch in /usr/local/lib/python3.7/dist-packages (from efficientnet-pytorch==0.6.3->segmentation-models-pytorch==0.2.0) (1.9.0+cu102)\n",
            "Collecting munch\n",
            "  Downloading munch-2.5.0-py2.py3-none-any.whl (10 kB)\n",
            "Requirement already satisfied: tqdm in /usr/local/lib/python3.7/dist-packages (from pretrainedmodels==0.7.4->segmentation-models-pytorch==0.2.0) (4.62.0)\n",
            "Requirement already satisfied: typing-extensions in /usr/local/lib/python3.7/dist-packages (from torch->efficientnet-pytorch==0.6.3->segmentation-models-pytorch==0.2.0) (3.7.4.3)\n",
            "Requirement already satisfied: pillow>=5.3.0 in /usr/local/lib/python3.7/dist-packages (from torchvision>=0.5.0->segmentation-models-pytorch==0.2.0) (7.1.2)\n",
            "Requirement already satisfied: numpy in /usr/local/lib/python3.7/dist-packages (from torchvision>=0.5.0->segmentation-models-pytorch==0.2.0) (1.19.5)\n",
            "Requirement already satisfied: six in /usr/local/lib/python3.7/dist-packages (from munch->pretrainedmodels==0.7.4->segmentation-models-pytorch==0.2.0) (1.15.0)\n",
            "Building wheels for collected packages: segmentation-models-pytorch, efficientnet-pytorch, pretrainedmodels\n",
            "  Building wheel for segmentation-models-pytorch (setup.py) ... \u001b[?25l\u001b[?25hdone\n",
            "  Created wheel for segmentation-models-pytorch: filename=segmentation_models_pytorch-0.2.0-py3-none-any.whl size=88675 sha256=e685e86b66570111f979367e75d2ba75ae7cec14f4334aae158d21551954cd58\n",
            "  Stored in directory: /tmp/pip-ephem-wheel-cache-hf9wspkh/wheels/fa/c5/a8/1e8af6cb04a0974db8a4a156ebd2fdd1d99ad2558d3fce49d4\n",
            "  Building wheel for efficientnet-pytorch (setup.py) ... \u001b[?25l\u001b[?25hdone\n",
            "  Created wheel for efficientnet-pytorch: filename=efficientnet_pytorch-0.6.3-py3-none-any.whl size=12421 sha256=f5a95ffbb32c495f4b564c626fb64c16b0c9c643327a84873b6356c94c485e78\n",
            "  Stored in directory: /root/.cache/pip/wheels/90/6b/0c/f0ad36d00310e65390b0d4c9218ae6250ac579c92540c9097a\n",
            "  Building wheel for pretrainedmodels (setup.py) ... \u001b[?25l\u001b[?25hdone\n",
            "  Created wheel for pretrainedmodels: filename=pretrainedmodels-0.7.4-py3-none-any.whl size=60965 sha256=b85d56a26ae6662fe56e85f7d1c648c212f873c8aeb300d90e8ea378053723c6\n",
            "  Stored in directory: /root/.cache/pip/wheels/ed/27/e8/9543d42de2740d3544db96aefef63bda3f2c1761b3334f4873\n",
            "Successfully built segmentation-models-pytorch efficientnet-pytorch pretrainedmodels\n",
            "Installing collected packages: munch, timm, pretrainedmodels, efficientnet-pytorch, segmentation-models-pytorch\n",
            "Successfully installed efficientnet-pytorch-0.6.3 munch-2.5.0 pretrainedmodels-0.7.4 segmentation-models-pytorch-0.2.0 timm-0.4.12\n"
          ],
          "name": "stdout"
        }
      ]
    },
    {
      "cell_type": "code",
      "metadata": {
        "colab": {
          "base_uri": "https://localhost:8080/",
          "height": 67,
          "referenced_widgets": [
            "4eaaa8a8634e4855af26fcbd2b33fc13",
            "6789286f54574f06bc63ebf382d0849e",
            "d0d0b99d7104438ea6140885de07e980",
            "465a9a4174784212a0cad05011dd0228",
            "b43fe78c07ce435c8eb0d2c21f054e68",
            "7eeb64ecb13c4d2291cfc0e3a6df6160",
            "3d3dc35ab73a4d1f9f1bb7eea0b51151",
            "c7f9730dc7d44bd89ebc48f2ff491fdf",
            "7c7d97f427c946738d2a9b5481cd845a",
            "dbc57f4a57fa4d86a7e17a2165381a51",
            "ee307ee53b994985b872600ba039750f"
          ]
        },
        "id": "18PpAJOD9GkJ",
        "outputId": "9c6f0445-e4b7-4bbc-e266-09d8db2f7f44"
      },
      "source": [
        "import segmentation_models_pytorch as smp\n",
        "model = smp.FPN(\n",
        "    encoder_name=\"resnext101_32x8d\",# choose encoder, e.g. mobilenet_v2 or efficientnet-b7 resnext101_32x8d,timm-res2net101_26w_4s     # use `imagenet` pre-trained weights for encoder initialization \n",
        "    encoder_weights=\"imagenet\",\n",
        "    in_channels=3,\n",
        "    # model input channels (1 for gray-scale images, 3 for RGB, etc.)\n",
        "    classes=2,                      # model output channels (number of classes in your dataset)\n",
        ")"
      ],
      "execution_count": null,
      "outputs": [
        {
          "output_type": "stream",
          "text": [
            "Downloading: \"https://download.pytorch.org/models/resnext101_32x8d-8ba56ff5.pth\" to /root/.cache/torch/hub/checkpoints/resnext101_32x8d-8ba56ff5.pth\n"
          ],
          "name": "stderr"
        },
        {
          "output_type": "display_data",
          "data": {
            "application/vnd.jupyter.widget-view+json": {
              "model_id": "4eaaa8a8634e4855af26fcbd2b33fc13",
              "version_minor": 0,
              "version_major": 2
            },
            "text/plain": [
              "  0%|          | 0.00/340M [00:00<?, ?B/s]"
            ]
          },
          "metadata": {}
        }
      ]
    },
    {
      "cell_type": "code",
      "metadata": {
        "id": "TiRaw4B39P1e"
      },
      "source": [
        "import torch.optim as optim\n",
        "criterion =  DiceLoss(sigmoid_normalization=True)\n",
        "optimizer = optim.Adam(model.parameters(),lr=0.00001)"
      ],
      "execution_count": null,
      "outputs": []
    },
    {
      "cell_type": "code",
      "metadata": {
        "colab": {
          "base_uri": "https://localhost:8080/"
        },
        "id": "UPG8JSqIOaAZ",
        "outputId": "0aa6aec5-670f-47f1-ae5e-4b994642f62a"
      },
      "source": [
        "sum([param.nelement() for param in model.parameters()])"
      ],
      "execution_count": null,
      "outputs": [
        {
          "output_type": "execute_result",
          "data": {
            "text/plain": [
              "89350466"
            ]
          },
          "metadata": {},
          "execution_count": 21
        }
      ]
    },
    {
      "cell_type": "code",
      "metadata": {
        "colab": {
          "base_uri": "https://localhost:8080/",
          "height": 35
        },
        "id": "EmiTRmsl9PzI",
        "outputId": "b6b347f1-a818-4028-9c45-a17ccaa7c204"
      },
      "source": [
        "device = 'cpu'\n",
        "if torch.cuda.is_available():\n",
        "    device = 'cuda'\n",
        "    \n",
        "device"
      ],
      "execution_count": null,
      "outputs": [
        {
          "output_type": "execute_result",
          "data": {
            "application/vnd.google.colaboratory.intrinsic+json": {
              "type": "string"
            },
            "text/plain": [
              "'cuda'"
            ]
          },
          "metadata": {},
          "execution_count": 19
        }
      ]
    },
    {
      "cell_type": "code",
      "metadata": {
        "id": "BxFM0Rno9xtV"
      },
      "source": [
        "n_epochs = 50\n",
        "cnt =0\n",
        "valid_loss_min = np.inf # track change in validation loss\n",
        "\n",
        "# keep track of training and validation loss\n",
        "train_loss = torch.zeros(n_epochs)\n",
        "valid_loss = torch.zeros(n_epochs)\n",
        "\n",
        "model.to(device)\n",
        "for e in range(0, n_epochs):\n",
        "\n",
        "   \n",
        "    ###################\n",
        "    # train the model #\n",
        "    ###################\n",
        "    model.train()\n",
        "    for data, labels,a in tqdm(train_loader):\n",
        "        # move tensors to GPU if CUDA is available\n",
        "        data, labels = data.to(device), labels.to(device) #cpu에 있는 데이터를 gpu에 보냄\n",
        "        # clear the gradients of all optimized variables\n",
        "        optimizer.zero_grad()\n",
        "        # forward pass: compute predicted outputs by passing inputs to the model\n",
        "        logits = model(data)\n",
        "        # calculate the batch loss\n",
        "        loss = criterion(logits, labels)\n",
        "        # backward pass: compute gradient of the loss with respect to model parameters\n",
        "        loss.backward()\n",
        "        # perform a single optimization step (parameter update)\n",
        "        optimizer.step()\n",
        "        # update training loss\n",
        "        train_loss[e] += loss.item()\n",
        "\n",
        "        logits = logits.sigmoid()\n",
        "        logits = logits.detach().cpu()\n",
        "\n",
        "        cnt = cnt+1\n",
        "        \n",
        "        if cnt %100==0:\n",
        "            \n",
        "            y=logits[0].detach().cpu().numpy()\n",
        "            x=labels[0].detach().cpu().numpy()\n",
        "            plt.figure(figsize=(16,18))\n",
        "            plt.subplot(1,5,1)\n",
        "            plt.imshow(x[0])\n",
        "            plt.subplot(1,5,2)\n",
        "            plt.imshow(x[1])\n",
        "            plt.subplot(1,5,3)\n",
        "            plt.imshow(y[0])\n",
        "            plt.subplot(1,5,4)\n",
        "            plt.imshow(y[1])\n",
        "            plt.subplot(1,5,5)\n",
        "            plt.imshow(a[0])\n",
        "            plt.show()\n",
        "        \n",
        "        \n",
        "        \n",
        "    \n",
        "    train_loss[e] /= len(train_loader)\n",
        "        \n",
        "        \n",
        "    ######################    \n",
        "    # validate the model #\n",
        "    ######################\n",
        "    with torch.no_grad(): \n",
        "        model.eval()\n",
        "        for data, labels,a in tqdm(val_loader):\n",
        "            # move tensors to GPU if CUDA is available\n",
        "            data, labels = data.to(device), labels.to(device)\n",
        "            # forward pass: compute predicted outputs by passing inputs to the model\n",
        "            logits = model(data)\n",
        "            # calculate the batch loss\n",
        "            loss = criterion(logits, labels)\n",
        "            # update average validation loss \n",
        "            valid_loss[e] += loss.item()\n",
        "\n",
        "    \n",
        "    # calculate average losses\n",
        "    valid_loss[e] /= len(val_loader)\n",
        "    \n",
        "    # print training/validation statistics \n",
        "    print('Epoch: {} \\tTraining Loss: {:.6f} \\tValidation Loss: {:.6f}'.format(\n",
        "        e, train_loss[e], valid_loss[e]))\n",
        "    \n",
        "    # save model if validation loss has decreased\n",
        "    if valid_loss[e] <= valid_loss_min:\n",
        "        print('Validation loss decreased ({:.6f} --> {:.6f}).  Saving model ...'.format(\n",
        "        valid_loss_min,\n",
        "        valid_loss[e]))\n",
        "        torch.save(model.state_dict(), 'model_simpleAlbu.pt')\n",
        "        valid_loss_min = valid_loss[e]"
      ],
      "execution_count": null,
      "outputs": []
    },
    {
      "cell_type": "code",
      "metadata": {
        "id": "-kyvSyrk_gP7"
      },
      "source": [
        "model.load_state_dict(torch.load('model_simpleAlbu.pt'))"
      ],
      "execution_count": null,
      "outputs": []
    },
    {
      "cell_type": "code",
      "metadata": {
        "id": "K-aiH1HO_3fI"
      },
      "source": [
        "class TestMyDataset(torch.utils.data.Dataset):\n",
        "    def __init__(self, x_dir,transform=None):\n",
        "        super().__init__()\n",
        "        self.transform = transform\n",
        "        self.x_img = x_dir\n",
        "     \n",
        "\n",
        "    def __len__(self):\n",
        "        return len(self.x_img)\n",
        "\n",
        "    def __getitem__(self, idx):\n",
        "        x_img = self.x_img[idx]\n",
        "        # Read an image with OpenCV\n",
        "        x_img = dcm.dcmread(x_img)\n",
        "        x_img=read_dicom(x_img,400,50)\n",
        "        x_img=np.transpose(x_img,(2,0,1))\n",
        "        x_img=x_img.astype(np.float32)\n",
        "        \n",
        "       \n",
        "        return x_img"
      ],
      "execution_count": null,
      "outputs": []
    },
    {
      "cell_type": "code",
      "metadata": {
        "id": "K3ukk_-U4V7-"
      },
      "source": [
        "test_path=sorted(glob.glob( \"./test/DICOM/**/*.dcm\",recursive=True ))"
      ],
      "execution_count": null,
      "outputs": []
    },
    {
      "cell_type": "code",
      "metadata": {
        "id": "IuULlvWU4Hd-"
      },
      "source": [
        "test_dataset = TestMyDataset(test_path)\n",
        "test_loader = torch.utils.data.DataLoader(dataset=test_dataset, batch_size=1,shuffle=False)"
      ],
      "execution_count": null,
      "outputs": []
    },
    {
      "cell_type": "code",
      "metadata": {
        "id": "XRaYDT2eW67b"
      },
      "source": [
        "def mask_binarization(mask, threshold=None):\n",
        "    if threshold is None:\n",
        "        threshold = 0.5\n",
        "\n",
        "    if isinstance(mask, np.ndarray):\n",
        "        mask_binarized = (mask > threshold).astype(np.uint8)\n",
        "    \n",
        "    elif isinstance(mask, torch.Tensor):\n",
        "        zeros = torch.zeros_like(mask)\n",
        "        ones = torch.ones_like(mask)\n",
        "        \n",
        "        mask_binarized = torch.where(mask > threshold, ones, zeros)\n",
        "    \n",
        "    return mask_binarized"
      ],
      "execution_count": null,
      "outputs": []
    },
    {
      "cell_type": "code",
      "metadata": {
        "id": "U5_k6uijAIzT"
      },
      "source": [
        "def rle_encode(mask_image):\n",
        "    pixels = mask_image.flatten()\n",
        "    pixels[0] = 0\n",
        "    pixels[-1] = 0\n",
        "    runs = np.where(pixels[1:] != pixels[:-1])[0] + 2\n",
        "    runs[1::2] = runs[1::2] - runs[:-1:2]\n",
        "    return runs\n",
        "\n",
        "def rle_to_string(runs):\n",
        "    return ' '.join(str(x) for x in runs)\n",
        "\n",
        "\n",
        "preds_string=[]\n",
        "preds = []\n",
        "model.to(device)\n",
        "cnt=0\n",
        "t=0\n",
        "for data in tqdm(test_loader):\n",
        "    \n",
        "\n",
        "    data= data.to(device)\n",
        "    # forward pass: compute predicted outputs by passing inputs to the model\n",
        "    pred = model(data)\n",
        "    pred = pred.sigmoid()\n",
        "    pred = mask_binarization(pred.detach().cpu(), 0.5)\n",
        "    preds.append(pred.detach().cpu())\n",
        "    \n",
        "    if cnt%32==0:\n",
        "        y=preds[cnt][0]\n",
        "        y=y.numpy()\n",
        "        x=data[0].detach().cpu().numpy()\n",
        "        plt.figure(figsize=(16,18))\n",
        "        plt.subplot(1,3,1)\n",
        "        plt.imshow(x[0],cmap='gray')\n",
        "        plt.subplot(1,3,2)\n",
        "        plt.imshow(y[0])\n",
        "        plt.subplot(1,3,3)\n",
        "        plt.imshow(y[1])\n",
        "        plt.show()\n",
        "    cnt= cnt+1\n",
        "    \n",
        "for i in tqdm(range(0, len(preds),64)):\n",
        "  sample = preds[i:i+64]\n",
        "  for c in range(2):\n",
        "    print(c)\n",
        "    for label_code in [1]:\n",
        "      tmp=[]\n",
        "      for s in sample:\n",
        "        s = np.equal(s[0][c], label_code).flatten()*1\n",
        "        tmp+=s.tolist()\n",
        "      enc = rle_to_string(rle_encode(np.array(tmp)))\n",
        "      preds_string.append(enc)\n"
      ],
      "execution_count": null,
      "outputs": []
    },
    {
      "cell_type": "code",
      "metadata": {
        "id": "JAJeVdobBCXu"
      },
      "source": [
        "sample_submission = pd.read_csv('./sample_submission.csv')\n",
        "sample_submission['EncodedPixels'] = preds_string\n",
        "sample_submission.to_csv('submission.csv', index=False)"
      ],
      "execution_count": null,
      "outputs": []
    }
  ]
}